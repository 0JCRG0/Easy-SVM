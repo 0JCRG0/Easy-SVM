{
 "cells": [
  {
   "cell_type": "markdown",
   "id": "057c0e33",
   "metadata": {},
   "source": [
    "# Lab Setup"
   ]
  },
  {
   "cell_type": "code",
   "execution_count": null,
   "id": "07a8a2cf",
   "metadata": {
    "scrolled": true
   },
   "outputs": [],
   "source": [
    "import pandas as pd\n",
    "import pygwalker as pyg\n",
    "from sklearn.model_selection import train_test_split\n",
    "from sklearn.metrics import accuracy_score\n",
    "from sklearn.preprocessing import StandardScaler\n",
    "from sklearn.svm import SVC\n",
    "from imblearn.over_sampling import SMOTE"
   ]
  },
  {
   "cell_type": "code",
   "execution_count": null,
   "id": "45072ae6",
   "metadata": {},
   "outputs": [],
   "source": [
    "casualty = pd.read_csv('data/casualty_train.csv')\n",
    "\n",
    "\n",
    "vehicle = pd.read_csv('data/vehicle_train.csv')\n"
   ]
  },
  {
   "cell_type": "markdown",
   "id": "953dbd02",
   "metadata": {},
   "source": [
    "## Modify the settings"
   ]
  },
  {
   "cell_type": "code",
   "execution_count": null,
   "id": "1e22b695",
   "metadata": {},
   "outputs": [],
   "source": [
    "pd.set_option('display.max_colwidth', 500)\n",
    "pd.set_option(\"display.max_rows\", None)\n",
    "pd.set_option(\"display.max_columns\", None)"
   ]
  },
  {
   "cell_type": "markdown",
   "id": "067cb9ca",
   "metadata": {},
   "source": [
    "# EDA Checklist "
   ]
  },
  {
   "cell_type": "markdown",
   "id": "ded005a3",
   "metadata": {},
   "source": [
    "## INITIAL EXPLORATION - CASUALTY"
   ]
  },
  {
   "cell_type": "code",
   "execution_count": null,
   "id": "16113961",
   "metadata": {
    "scrolled": true
   },
   "outputs": [],
   "source": [
    "casualty.head()"
   ]
  },
  {
   "cell_type": "code",
   "execution_count": null,
   "id": "b39b3ee0",
   "metadata": {},
   "outputs": [],
   "source": [
    "casualty.tail()"
   ]
  },
  {
   "cell_type": "markdown",
   "id": "e2107f2c",
   "metadata": {},
   "source": [
    "## INITIAL EXPLORATION - VEHICLE"
   ]
  },
  {
   "cell_type": "code",
   "execution_count": null,
   "id": "27395765",
   "metadata": {
    "scrolled": true
   },
   "outputs": [],
   "source": [
    "vehicle.head()"
   ]
  },
  {
   "cell_type": "code",
   "execution_count": null,
   "id": "52c5512c",
   "metadata": {},
   "outputs": [],
   "source": [
    "vehicle.tail()"
   ]
  },
  {
   "cell_type": "markdown",
   "id": "8e46a2ba",
   "metadata": {},
   "source": [
    "## DESCRIBE & SHAPE"
   ]
  },
  {
   "cell_type": "code",
   "execution_count": null,
   "id": "0803efa3",
   "metadata": {},
   "outputs": [],
   "source": [
    "casualty.shape"
   ]
  },
  {
   "cell_type": "code",
   "execution_count": null,
   "id": "c1e9f4d0",
   "metadata": {
    "scrolled": false
   },
   "outputs": [],
   "source": [
    "casualty.describe()"
   ]
  },
  {
   "cell_type": "code",
   "execution_count": null,
   "id": "20da97a2",
   "metadata": {},
   "outputs": [],
   "source": [
    "vehicle.shape"
   ]
  },
  {
   "cell_type": "code",
   "execution_count": null,
   "id": "c071afd6",
   "metadata": {
    "scrolled": true
   },
   "outputs": [],
   "source": [
    "vehicle.describe()"
   ]
  },
  {
   "cell_type": "markdown",
   "id": "23ee859f",
   "metadata": {},
   "source": [
    "## MISSING VALUES?"
   ]
  },
  {
   "cell_type": "code",
   "execution_count": null,
   "id": "b46e805d",
   "metadata": {
    "scrolled": true
   },
   "outputs": [],
   "source": [
    "casualty.isnull().sum()"
   ]
  },
  {
   "cell_type": "code",
   "execution_count": null,
   "id": "ddef445c",
   "metadata": {},
   "outputs": [],
   "source": [
    "vehicle.isnull().sum()"
   ]
  },
  {
   "cell_type": "markdown",
   "id": "4844dce1",
   "metadata": {},
   "source": [
    "## DUPLICATES?"
   ]
  },
  {
   "cell_type": "code",
   "execution_count": null,
   "id": "411b4fcf",
   "metadata": {
    "scrolled": true
   },
   "outputs": [],
   "source": [
    "vehicle.duplicated().sum()"
   ]
  },
  {
   "cell_type": "code",
   "execution_count": null,
   "id": "8f59b7c5",
   "metadata": {},
   "outputs": [],
   "source": [
    "casualty.duplicated().sum()"
   ]
  },
  {
   "cell_type": "markdown",
   "id": "09d975a9",
   "metadata": {},
   "source": [
    "## DTYPES"
   ]
  },
  {
   "cell_type": "code",
   "execution_count": null,
   "id": "2ac1471c",
   "metadata": {},
   "outputs": [],
   "source": [
    "vehicle.dtypes"
   ]
  },
  {
   "cell_type": "code",
   "execution_count": null,
   "id": "536d87bb",
   "metadata": {},
   "outputs": [],
   "source": [
    "casualty.dtypes"
   ]
  },
  {
   "cell_type": "markdown",
   "id": "5e7b4140",
   "metadata": {},
   "source": [
    "## VISUALISATION"
   ]
  },
  {
   "cell_type": "code",
   "execution_count": null,
   "id": "2451230e",
   "metadata": {},
   "outputs": [],
   "source": [
    "# Create a histogram of the 'Age' column\n",
    "gwalker_casualty = pyg.walk(casualty)\n"
   ]
  },
  {
   "cell_type": "markdown",
   "id": "dfa5683a",
   "metadata": {},
   "source": [
    "# MERGE THE VALUES"
   ]
  },
  {
   "cell_type": "code",
   "execution_count": null,
   "id": "09345db5",
   "metadata": {
    "scrolled": true
   },
   "outputs": [],
   "source": [
    "merged_df = pd.merge(casualty, vehicle, on=['accident_reference', 'vehicle_reference'], how='inner')\n",
    "\n",
    "merged_df.head()"
   ]
  },
  {
   "cell_type": "code",
   "execution_count": null,
   "id": "89170431",
   "metadata": {},
   "outputs": [],
   "source": [
    "merged_df.shape"
   ]
  },
  {
   "cell_type": "code",
   "execution_count": null,
   "id": "41ef7480",
   "metadata": {
    "scrolled": true
   },
   "outputs": [],
   "source": [
    "merged_df.describe()"
   ]
  },
  {
   "cell_type": "code",
   "execution_count": null,
   "id": "ebddff9b",
   "metadata": {},
   "outputs": [],
   "source": [
    "df = merged_df"
   ]
  },
  {
   "cell_type": "code",
   "execution_count": null,
   "id": "121c5f7d",
   "metadata": {},
   "outputs": [],
   "source": [
    "df.head(150)"
   ]
  },
  {
   "cell_type": "markdown",
   "id": "fcb4b061",
   "metadata": {},
   "source": [
    "# SELECT ONLY THE ROWS THAT !-1"
   ]
  },
  {
   "cell_type": "code",
   "execution_count": null,
   "id": "37a2642d",
   "metadata": {},
   "outputs": [],
   "source": [
    "# select only the rows that do not contain -1 values in any of the columns\n",
    "df = df[(df != -1).all(axis=1)]"
   ]
  },
  {
   "cell_type": "code",
   "execution_count": null,
   "id": "ba16931d",
   "metadata": {
    "scrolled": false
   },
   "outputs": [],
   "source": [
    "df.describe()"
   ]
  },
  {
   "cell_type": "code",
   "execution_count": null,
   "id": "7b9712cf",
   "metadata": {},
   "outputs": [],
   "source": [
    "df.shape"
   ]
  },
  {
   "cell_type": "code",
   "execution_count": null,
   "id": "d22a22f7",
   "metadata": {},
   "outputs": [],
   "source": [
    "df.head(100)"
   ]
  },
  {
   "cell_type": "markdown",
   "id": "7b8d696f",
   "metadata": {},
   "source": [
    "# Features (x), Target (y)"
   ]
  },
  {
   "cell_type": "code",
   "execution_count": null,
   "id": "55d53d5d",
   "metadata": {},
   "outputs": [],
   "source": [
    "# map the casualty_severity column to binary values of 1 (for \"fatal\" and \"serious\") and 0 (for \"slight\")\n",
    "#df.loc['target'] = df['casualty_severity'].map({1: 1, 2: 1, 3: 0})\n",
    "\n",
    "# create a new dataframe with only the target values (i.e., the target column)\n",
    "y = df[['casualty_severity']]\n",
    "\n",
    "# create a new dataframe with only the feature values (i.e., all columns except casualty_severity and target)\n",
    "X = df.drop(['casualty_severity', 'casualty_severity'], axis=1)"
   ]
  },
  {
   "cell_type": "code",
   "execution_count": null,
   "id": "f8dc0b9a",
   "metadata": {
    "scrolled": true
   },
   "outputs": [],
   "source": [
    "y.head(150)"
   ]
  },
  {
   "cell_type": "markdown",
   "id": "3b93c720",
   "metadata": {},
   "source": [
    "# Map target to binary 1 (fatal, serious) and 0 (slight)."
   ]
  },
  {
   "cell_type": "code",
   "execution_count": null,
   "id": "6a9f0848",
   "metadata": {},
   "outputs": [],
   "source": [
    "y = y.replace({1: 1, 2:1, 3:0})"
   ]
  },
  {
   "cell_type": "code",
   "execution_count": null,
   "id": "bdc9ee7c",
   "metadata": {},
   "outputs": [],
   "source": [
    "y.head(150)"
   ]
  },
  {
   "cell_type": "code",
   "execution_count": null,
   "id": "2c5e9fbb",
   "metadata": {},
   "outputs": [],
   "source": [
    "y.dtypes"
   ]
  },
  {
   "cell_type": "code",
   "execution_count": null,
   "id": "e0b91210",
   "metadata": {},
   "outputs": [],
   "source": [
    "X.dtypes"
   ]
  },
  {
   "cell_type": "code",
   "execution_count": null,
   "id": "ef40bf4c",
   "metadata": {
    "scrolled": true
   },
   "outputs": [],
   "source": [
    "X.head(100)"
   ]
  },
  {
   "cell_type": "code",
   "execution_count": null,
   "id": "f7bcb119",
   "metadata": {
    "scrolled": false
   },
   "outputs": [],
   "source": [
    "X = X.drop(['lsoa_of_casualty', 'lsoa_of_driver', 'generic_make_model', 'accident_reference'], axis=1)"
   ]
  },
  {
   "cell_type": "code",
   "execution_count": null,
   "id": "f0f101c9",
   "metadata": {
    "scrolled": false
   },
   "outputs": [],
   "source": [
    "X.head()"
   ]
  },
  {
   "cell_type": "code",
   "execution_count": null,
   "id": "0ece043b",
   "metadata": {},
   "outputs": [],
   "source": [
    "X.shape"
   ]
  },
  {
   "cell_type": "markdown",
   "id": "c1c4d3e7",
   "metadata": {},
   "source": [
    "# SVM "
   ]
  },
  {
   "cell_type": "markdown",
   "id": "2b9435db",
   "metadata": {},
   "source": [
    "# Load the test data & merge it"
   ]
  },
  {
   "cell_type": "code",
   "execution_count": null,
   "id": "b1a1f238",
   "metadata": {},
   "outputs": [],
   "source": [
    "casualty_test = pd.read_csv('data/casualty_test.csv')\n",
    "\n",
    "\n",
    "vehicle_test = pd.read_csv('data/vehicle_test.csv')\n"
   ]
  },
  {
   "cell_type": "code",
   "execution_count": null,
   "id": "62ae8811",
   "metadata": {
    "scrolled": true
   },
   "outputs": [],
   "source": [
    "vehicle_test.tail()"
   ]
  },
  {
   "cell_type": "code",
   "execution_count": null,
   "id": "61cdc6e5",
   "metadata": {},
   "outputs": [],
   "source": [
    "merged_test = pd.merge(casualty_test, vehicle_test, on=['accident_reference', 'vehicle_reference'], how='inner')"
   ]
  },
  {
   "cell_type": "code",
   "execution_count": null,
   "id": "090451db",
   "metadata": {},
   "outputs": [],
   "source": [
    "merged_test.head()"
   ]
  },
  {
   "cell_type": "code",
   "execution_count": null,
   "id": "2e48f9d0",
   "metadata": {},
   "outputs": [],
   "source": [
    "merged_test.shape"
   ]
  },
  {
   "cell_type": "code",
   "execution_count": null,
   "id": "27e6c1d8",
   "metadata": {},
   "outputs": [],
   "source": [
    "df1 = merged_test"
   ]
  },
  {
   "cell_type": "code",
   "execution_count": null,
   "id": "6f80bcd4",
   "metadata": {
    "scrolled": true
   },
   "outputs": [],
   "source": [
    "df1.shape"
   ]
  },
  {
   "cell_type": "markdown",
   "id": "cc162a90",
   "metadata": {},
   "source": [
    "# Drop the columns you do not need\n"
   ]
  },
  {
   "cell_type": "code",
   "execution_count": null,
   "id": "9733f1e5",
   "metadata": {},
   "outputs": [],
   "source": [
    "df1 = df1.drop(['lsoa_of_casualty', 'lsoa_of_driver', 'generic_make_model', 'accident_reference'], axis=1)"
   ]
  },
  {
   "cell_type": "code",
   "execution_count": null,
   "id": "b84da09e",
   "metadata": {},
   "outputs": [],
   "source": [
    "df1.head()"
   ]
  },
  {
   "cell_type": "code",
   "execution_count": null,
   "id": "235efb2e",
   "metadata": {
    "scrolled": true
   },
   "outputs": [],
   "source": [
    "df1.shape"
   ]
  },
  {
   "cell_type": "code",
   "execution_count": null,
   "id": "ec7a5acf",
   "metadata": {},
   "outputs": [],
   "source": [
    "new_data = df1"
   ]
  },
  {
   "cell_type": "markdown",
   "id": "9e9c8458",
   "metadata": {},
   "source": [
    "# TRAIN & PREDICT"
   ]
  },
  {
   "cell_type": "code",
   "execution_count": null,
   "id": "12a07b5b",
   "metadata": {},
   "outputs": [],
   "source": [
    "# Splitting the data into training and testing sets\n",
    "X_train, X_test, y_train, y_test = train_test_split(X, y, test_size=0.2, random_state=42)\n",
    "\n",
    "# Scaling the features\n",
    "scaler = StandardScaler()\n",
    "X_train = scaler.fit_transform(X_train)\n",
    "X_test = scaler.transform(X_test)\n",
    "\n",
    "# Perform SMOTE oversampling on the training set\n",
    "## This is done due to Class imbalance of the dataset\n",
    "sm = SMOTE(random_state=42)\n",
    "X_train_resampled, y_train_resampled = sm.fit_resample(X_train, y_train)\n",
    "\n",
    "# Creating the SVM model\n",
    "svm = SVC(kernel='linear', C=1.0, gamma='auto')\n",
    "\n",
    "# Training the model on the resampled training data\n",
    "svm.fit(X_train_resampled, y_train_resampled)\n",
    "\n",
    "# Predicting on the test set\n",
    "y_pred = svm.predict(X_test)\n",
    "\n",
    "# Evaluate\n",
    "accuracy = accuracy_score(y_test, y_pred)\n",
    "print('Accuracy:', accuracy)"
   ]
  },
  {
   "cell_type": "code",
   "execution_count": null,
   "id": "efebc6f4",
   "metadata": {},
   "outputs": [],
   "source": [
    "# Preprocess the new data...\n",
    "new_data = scaler.transform(new_data)\n",
    "\n",
    "# Predict the class labels of the new data\n",
    "predicted_labels = svm.predict(new_data)"
   ]
  },
  {
   "cell_type": "code",
   "execution_count": null,
   "id": "42be2613",
   "metadata": {},
   "outputs": [],
   "source": [
    "# create a dataframe with predicted labels\n",
    "df1 = pd.DataFrame(predicted_labels, columns=['predicted_labels'])\n",
    "\n",
    "# save the df\n",
    "df1.to_csv('out/predicts.csv', index=False)"
   ]
  },
  {
   "cell_type": "code",
   "execution_count": null,
   "id": "62a2634f",
   "metadata": {},
   "outputs": [],
   "source": [
    "df1.tail()"
   ]
  }
 ],
 "metadata": {
  "kernelspec": {
   "display_name": "Python 3 (ipykernel)",
   "language": "python",
   "name": "python3"
  },
  "language_info": {
   "codemirror_mode": {
    "name": "ipython",
    "version": 3
   },
   "file_extension": ".py",
   "mimetype": "text/x-python",
   "name": "python",
   "nbconvert_exporter": "python",
   "pygments_lexer": "ipython3",
   "version": "3.10.6"
  },
  "vscode": {
   "interpreter": {
    "hash": "aee8b7b246df8f9039afb4144a1f6fd8d2ca17a180786b69acc140d282b71a49"
   }
  }
 },
 "nbformat": 4,
 "nbformat_minor": 5
}
